{
  "nbformat": 4,
  "nbformat_minor": 0,
  "metadata": {
    "colab": {
      "provenance": [],
      "toc_visible": true
    },
    "kernelspec": {
      "name": "python3",
      "display_name": "Python 3"
    },
    "language_info": {
      "name": "python"
    }
  },
  "cells": [
    {
      "cell_type": "code",
      "execution_count": 12,
      "metadata": {
        "colab": {
          "base_uri": "https://localhost:8080/"
        },
        "id": "Z_F6Fs8mD-JT",
        "outputId": "45344277-b21b-4bf6-e0a3-05ef3c6f5c87"
      },
      "outputs": [
        {
          "output_type": "stream",
          "name": "stdout",
          "text": [
            "Employee: harsha, Department: HR, Salary: 60000\n",
            "Employee: harsha, Department: Finance, Salary: 70000\n",
            "Fulltime Employee: Alice, Department: IT, Salary: 80000\n",
            "Fulltime Employee: karthik, Department: Marketing, Salary: 90000\n",
            "Average Salary of Employees: 75000.0\n",
            "Number of Employees: 4\n",
            "Average Salary of Fulltime Employees: 85000.0\n",
            "Number of Fulltime Employees: 2\n"
          ]
        }
      ],
      "source": [
        "class Employee:\n",
        "    employee_count = 0\n",
        "    total_salary = 0\n",
        "\n",
        "    def __init__(self, name, family, salary, department):\n",
        "        self.name = name\n",
        "        self.family = family\n",
        "        self.salary = salary\n",
        "        self.department = department\n",
        "        Employee.employee_count += 1\n",
        "        Employee.total_salary += salary\n",
        "\n",
        "    @classmethod\n",
        "    def average_salary(cls):\n",
        "        if cls.employee_count > 0:\n",
        "            return cls.total_salary / cls.employee_count\n",
        "        return 0\n",
        "\n",
        "    def display_employee(self):\n",
        "        return f\"Employee: {self.name}, Department: {self.department}, Salary: {self.salary}\"\n",
        "\n",
        "class FulltimeEmployee(Employee):\n",
        "    ft_employee_count = 0\n",
        "    ft_total_salary = 0\n",
        "\n",
        "    def __init__(self, name, family, salary, department):\n",
        "        super().__init__(name, family, salary, department)\n",
        "        FulltimeEmployee.ft_employee_count += 1\n",
        "        FulltimeEmployee.ft_total_salary += salary\n",
        "\n",
        "    @classmethod\n",
        "    def average_salary(cls):\n",
        "        if cls.ft_employee_count > 0:\n",
        "            return cls.ft_total_salary / cls.ft_employee_count\n",
        "        return 0\n",
        "\n",
        "    def display_employee(self):\n",
        "        return f\"Fulltime Employee: {self.name}, Department: {self.department}, Salary: {self.salary}\"\n",
        "\n",
        "# Creating instances\n",
        "emp1 = Employee(\"harsha\", \"karthik\", 60000, \"HR\")\n",
        "emp2 = Employee(\"harsha\", \"karthik\", 70000, \"Finance\")\n",
        "ft_emp1 = FulltimeEmployee(\"Alice\", \"Smith\", 80000, \"IT\")\n",
        "ft_emp2 = FulltimeEmployee(\"karthik\", \"harsha\", 90000, \"Marketing\")\n",
        "\n",
        "# Displaying information\n",
        "print(emp1.display_employee())\n",
        "print(emp2.display_employee())\n",
        "print(ft_emp1.display_employee())\n",
        "print(ft_emp2.display_employee())\n",
        "\n",
        "# Displaying average salaries and counts\n",
        "print(f\"Average Salary of Employees: {Employee.average_salary()}\")\n",
        "print(f\"Number of Employees: {Employee.employee_count}\")\n",
        "print(f\"Average Salary of Fulltime Employees: {FulltimeEmployee.average_salary()}\")\n",
        "print(f\"Number of Fulltime Employees: {FulltimeEmployee.ft_employee_count}\")\n"
      ]
    },
    {
      "cell_type": "code",
      "source": [
        "import numpy as np\n",
        "\n",
        "# Create random vector of size 20 with floats in the range 1-20\n",
        "random_vector = np.random.uniform(1, 20, 20)\n",
        "\n",
        "# Reshape the array to 4 by 5\n",
        "reshaped_array = random_vector.reshape(4, 5)\n",
        "\n",
        "# Replace the max in each row by 0\n",
        "reshaped_array[reshaped_array == reshaped_array.max(axis=1, keepdims=True)] = 0\n",
        "\n",
        "reshaped_array\n"
      ],
      "metadata": {
        "colab": {
          "base_uri": "https://localhost:8080/"
        },
        "id": "pGxsWnT0EuzF",
        "outputId": "ec2b6f3d-4be5-4974-d00e-40a0a09fe357"
      },
      "execution_count": 13,
      "outputs": [
        {
          "output_type": "execute_result",
          "data": {
            "text/plain": [
              "array([[ 6.23459263,  0.        ,  7.74516648,  9.15642792,  1.30005313],\n",
              "       [ 7.09234596,  0.        ,  9.28621679,  8.05492687,  5.29950614],\n",
              "       [ 5.64101247, 12.67086618,  0.        ,  8.27437967, 11.21160229],\n",
              "       [18.76297104, 15.87367014, 17.22634459,  0.        ,  5.65319135]])"
            ]
          },
          "metadata": {},
          "execution_count": 13
        }
      ]
    }
  ]
}